{
 "cells": [
  {
   "cell_type": "markdown",
   "id": "2a25f6df",
   "metadata": {},
   "source": [
    "# Random Forest Classifier on Tips Dataset\n",
    "\n",
    "This notebook demonstrates how to build a classification model using a Random Forest. We use preprocessing pipelines to handle missing values and categorical features using scikit-learn tools like `SimpleImputer`, `OneHotEncoder`, and `ColumnTransformer`."
   ]
  },
  {
   "cell_type": "code",
   "execution_count": null,
   "id": "cd101330",
   "metadata": {},
   "outputs": [],
   "source": [
    "import pandas as pd\n",
    "import seaborn as sns\n",
    "from sklearn.model_selection import train_test_split, RandomizedSearchCV\n",
    "from sklearn.pipeline import Pipeline\n",
    "from sklearn.compose import ColumnTransformer\n",
    "from sklearn.preprocessing import OneHotEncoder, StandardScaler\n",
    "from sklearn.impute import SimpleImputer\n",
    "from sklearn.ensemble import RandomForestClassifier\n",
    "from sklearn.metrics import classification_report, accuracy_score\n"
   ]
  },
  {
   "cell_type": "code",
   "execution_count": null,
   "id": "c2015105",
   "metadata": {},
   "outputs": [],
   "source": [
    "# Load the tips dataset\n",
    "df = sns.load_dataset(\"tips\")\n",
    "df.head()\n"
   ]
  },
  {
   "cell_type": "code",
   "execution_count": null,
   "id": "316ebfcf",
   "metadata": {},
   "outputs": [],
   "source": [
    "# Drop the target column 'time'\n",
    "X = df.drop(\"time\", axis=1)\n",
    "y = df[\"time\"]\n"
   ]
  },
  {
   "cell_type": "code",
   "execution_count": null,
   "id": "a2038ba6",
   "metadata": {},
   "outputs": [],
   "source": [
    "# Identify categorical and numerical columns\n",
    "cat_cols = [\"sex\", \"smoker\", \"day\"]\n",
    "num_cols = [\"total_bill\", \"tip\", \"size\"]\n"
   ]
  },
  {
   "cell_type": "code",
   "execution_count": null,
   "id": "13ac2e14",
   "metadata": {},
   "outputs": [],
   "source": [
    "# Pipeline for numerical features\n",
    "num_pipeline = Pipeline([\n",
    "    (\"imputer\", SimpleImputer(strategy='median')),\n",
    "    (\"scaler\", StandardScaler())\n",
    "])\n",
    "\n",
    "# Pipeline for categorical features\n",
    "cat_pipeline = Pipeline([\n",
    "    (\"imputer\", SimpleImputer(strategy='most_frequent')),\n",
    "    (\"encoder\", OneHotEncoder(drop='first', sparse_output=False))\n",
    "])\n"
   ]
  },
  {
   "cell_type": "code",
   "execution_count": null,
   "id": "804ecf36",
   "metadata": {},
   "outputs": [],
   "source": [
    "# Combine pipelines\n",
    "preprocessor = ColumnTransformer([\n",
    "    (\"num\", num_pipeline, num_cols),\n",
    "    (\"cat\", cat_pipeline, cat_cols)\n",
    "])\n"
   ]
  },
  {
   "cell_type": "code",
   "execution_count": null,
   "id": "9e095147",
   "metadata": {},
   "outputs": [],
   "source": [
    "# Split data\n",
    "X_train, X_test, y_train, y_test = train_test_split(X, y, test_size=0.3, random_state=1)\n",
    "\n",
    "# Apply preprocessing\n",
    "X_train = preprocessor.fit_transform(X_train)\n",
    "X_test = preprocessor.transform(X_test)\n"
   ]
  },
  {
   "cell_type": "code",
   "execution_count": null,
   "id": "d348f887",
   "metadata": {},
   "outputs": [],
   "source": [
    "# Define the model\n",
    "rf = RandomForestClassifier(random_state=42)\n",
    "\n",
    "# Hyperparameter grid\n",
    "params = {\n",
    "    'max_depth': [1, 2, 3, 5, 10, None],\n",
    "    'n_estimators': [30, 50, 100, 200],\n",
    "    'criterion': ['gini', 'entropy']\n",
    "}\n",
    "\n",
    "# Randomized search\n",
    "clf = RandomizedSearchCV(rf, param_distributions=params, cv=5, verbose=2, n_iter=10, scoring='accuracy')\n",
    "clf.fit(X_train, y_train)\n"
   ]
  },
  {
   "cell_type": "code",
   "execution_count": null,
   "id": "9d409403",
   "metadata": {},
   "outputs": [],
   "source": [
    "# Predict and evaluate\n",
    "y_pred = clf.predict(X_test)\n",
    "print(\"Accuracy:\", accuracy_score(y_test, y_pred))\n",
    "print(\"\\nClassification Report:\\n\", classification_report(y_test, y_pred))\n"
   ]
  }
 ],
 "metadata": {},
 "nbformat": 4,
 "nbformat_minor": 5
}
